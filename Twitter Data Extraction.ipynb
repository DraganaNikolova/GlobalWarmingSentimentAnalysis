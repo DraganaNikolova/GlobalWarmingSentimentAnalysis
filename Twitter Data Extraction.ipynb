{
 "cells": [
  {
   "cell_type": "code",
   "execution_count": 24,
   "id": "1539bd25",
   "metadata": {},
   "outputs": [],
   "source": [
    "# Connect\n",
    "import os\n",
    "import tweepy\n",
    "from dotenv import load_dotenv\n",
    "\n",
    "load_dotenv()\n",
    "\n",
    "BEARER_TOKEN = os.getenv(\"BEARER_TOKEN\")\n",
    "\n",
    "client = tweepy.Client(bearer_token=BEARER_TOKEN)"
   ]
  },
  {
   "cell_type": "code",
   "execution_count": 25,
   "id": "2e7a9deb",
   "metadata": {},
   "outputs": [],
   "source": [
    "# Exctract recent tweets\n",
    "\n",
    "# Replace with your own search query\n",
    "# query = 'global warming'\n",
    "query = 'global warming -is:retweet lang:en'\n",
    "\n",
    "tweets = client.search_recent_tweets(query=query, tweet_fields=['public_metrics', 'created_at'], max_results=100)\n",
    "\n",
    "id, text, date, likes = [],[],[],[]\n",
    "for tweet in tweets.data:\n",
    "    id.append(tweet.id)\n",
    "    text.append(tweet.text)\n",
    "    date.append(tweet.created_at)\n",
    "    likes.append(tweet.public_metrics[\"like_count\"])"
   ]
  },
  {
   "cell_type": "code",
   "execution_count": 26,
   "id": "2cdaf635",
   "metadata": {},
   "outputs": [
    {
     "name": "stdout",
     "output_type": "stream",
     "text": [
      "9622026\n"
     ]
    }
   ],
   "source": [
    "# Load files containing the tweet ids\n",
    "txt_file = open(r'C:\\Users\\draga\\Downloads\\climate_id.txt.03', \"r\")\n",
    "\n",
    "content_list = txt_file.readlines()\n",
    "content_list = [line.rstrip() for line in content_list]\n",
    "print(len(content_list))"
   ]
  },
  {
   "cell_type": "code",
   "execution_count": 22,
   "id": "40159c03",
   "metadata": {},
   "outputs": [
    {
     "data": {
      "text/plain": [
       "Response(data=[<Tweet id=1028966470137651200 text='The latest Integrative Information Ecology! https://t.co/TlaKQJRojn #climatechange #breakfreefromplastic'>, <Tweet id=1028966482082848768 text=\"absolutely feckin awesome, all you climate change denial troglodytes should watch this (hint, there's a fair bit of sarcasm in it, which might go over the heads of said troglodytes) https://t.co/0CHhTwwdPM\">], includes={}, errors=[], meta={})"
      ]
     },
     "execution_count": 22,
     "metadata": {},
     "output_type": "execute_result"
    }
   ],
   "source": [
    "tweets_info"
   ]
  },
  {
   "cell_type": "code",
   "execution_count": 2,
   "id": "dec360e9",
   "metadata": {},
   "outputs": [],
   "source": [
    "# Random picking id to find where a specific year is\n",
    "import random\n",
    "\n",
    "# repeat 100 times\n",
    "for counter in range(0, 100):\n",
    "    i = random.randint(1, 9622026)\n",
    "    print(i)\n",
    "    new_ids = content_list[i]\n",
    "    \n",
    "    tweets_info = client.get_tweets(ids=new_ids, tweet_fields=[\"public_metrics\", \"created_at\"])\n",
    "    try:\n",
    "        for tweet in tweets_info.data:\n",
    "            try:\n",
    "                if tweet[\"created_at\"] != 2019 and tweet[\"created_at\"] != 2018:\n",
    "                    print(tweet[\"created_at\"])\n",
    "            except: pass\n",
    "    except: pass"
   ]
  },
  {
   "cell_type": "code",
   "execution_count": 4,
   "id": "64c74a5e",
   "metadata": {},
   "outputs": [
    {
     "name": "stdout",
     "output_type": "stream",
     "text": [
      "15684 15684 15684 15684\n"
     ]
    }
   ],
   "source": [
    "print(len(id), len(text), len(date), len(likes))"
   ]
  },
  {
   "cell_type": "code",
   "execution_count": 1,
   "id": "61030bec",
   "metadata": {},
   "outputs": [],
   "source": [
    "# Find existing ids\n",
    "import pandas as pd\n",
    "df = pd.read_pickle(\"dataset.pkl\")  \n",
    "existing_ids = list(df['id'])\n",
    "\n",
    "#id, text, date, likes = [],[],[],[]\n",
    "i = 2000000\n",
    "while i < 10000000:\n",
    "    # Add only new ids\n",
    "    new_ids = []\n",
    "    for index in content_list[i:i+100]:\n",
    "        if index not in existing_ids:\n",
    "            new_ids.append(index)\n",
    "            \n",
    "    tweets_info = client.get_tweets(ids=new_ids, tweet_fields=[\"public_metrics\", \"created_at\"])\n",
    "    for tweet in tweets_info.data:\n",
    "        try:\n",
    "            id.append(tweet[\"id\"])\n",
    "            text.append(tweet[\"text\"])\n",
    "            date.append(tweet[\"created_at\"])\n",
    "            likes.append(tweet[\"public_metrics\"][\"like_count\"])\n",
    "        except: pass\n",
    "        \n",
    "    i = i + 100"
   ]
  },
  {
   "cell_type": "code",
   "execution_count": 28,
   "id": "512ac50f",
   "metadata": {},
   "outputs": [],
   "source": [
    "import pandas as pd\n",
    "\n",
    "df = pd.DataFrame()\n",
    "df['id'] = id\n",
    "df['text'] =  text\n",
    "df['date'] = date\n",
    "df['likes'] =  likes"
   ]
  },
  {
   "cell_type": "code",
   "execution_count": 29,
   "id": "76d2a539",
   "metadata": {},
   "outputs": [],
   "source": [
    "df_base = pd.read_pickle(\"dataset.pkl\")  \n",
    " \n",
    "df_join = pd.concat([df_base, df])"
   ]
  },
  {
   "cell_type": "code",
   "execution_count": 30,
   "id": "b362079a",
   "metadata": {},
   "outputs": [
    {
     "data": {
      "text/html": [
       "<div>\n",
       "<style scoped>\n",
       "    .dataframe tbody tr th:only-of-type {\n",
       "        vertical-align: middle;\n",
       "    }\n",
       "\n",
       "    .dataframe tbody tr th {\n",
       "        vertical-align: top;\n",
       "    }\n",
       "\n",
       "    .dataframe thead th {\n",
       "        text-align: right;\n",
       "    }\n",
       "</style>\n",
       "<table border=\"1\" class=\"dataframe\">\n",
       "  <thead>\n",
       "    <tr style=\"text-align: right;\">\n",
       "      <th></th>\n",
       "      <th>id</th>\n",
       "      <th>text</th>\n",
       "      <th>date</th>\n",
       "      <th>likes</th>\n",
       "    </tr>\n",
       "  </thead>\n",
       "  <tbody>\n",
       "    <tr>\n",
       "      <th>0</th>\n",
       "      <td>1529817932951441417</td>\n",
       "      <td>**Queue switching the marketing material chang...</td>\n",
       "      <td>2022-05-26 13:33:12+00:00</td>\n",
       "      <td>0</td>\n",
       "    </tr>\n",
       "    <tr>\n",
       "      <th>1</th>\n",
       "      <td>1529817896385396736</td>\n",
       "      <td>RT @pjmyoongii: first the blue house and now t...</td>\n",
       "      <td>2022-05-26 13:33:03+00:00</td>\n",
       "      <td>0</td>\n",
       "    </tr>\n",
       "    <tr>\n",
       "      <th>2</th>\n",
       "      <td>1529817863829172224</td>\n",
       "      <td>@realDailyWire Soooo it’s not about global war...</td>\n",
       "      <td>2022-05-26 13:32:56+00:00</td>\n",
       "      <td>0</td>\n",
       "    </tr>\n",
       "    <tr>\n",
       "      <th>3</th>\n",
       "      <td>1529817838357164032</td>\n",
       "      <td>RT @Concern70732755: Here’s my harsh reality f...</td>\n",
       "      <td>2022-05-26 13:32:49+00:00</td>\n",
       "      <td>0</td>\n",
       "    </tr>\n",
       "    <tr>\n",
       "      <th>4</th>\n",
       "      <td>1529817815674302465</td>\n",
       "      <td>ESG study shows #Bitcoin Mining’s potential to...</td>\n",
       "      <td>2022-05-26 13:32:44+00:00</td>\n",
       "      <td>0</td>\n",
       "    </tr>\n",
       "    <tr>\n",
       "      <th>...</th>\n",
       "      <td>...</td>\n",
       "      <td>...</td>\n",
       "      <td>...</td>\n",
       "      <td>...</td>\n",
       "    </tr>\n",
       "    <tr>\n",
       "      <th>19055</th>\n",
       "      <td>1120431737421672449</td>\n",
       "      <td>RT @EcoSenseNow: The War on Plastic is basical...</td>\n",
       "      <td>2019-04-22 20:58:37+00:00</td>\n",
       "      <td>0</td>\n",
       "    </tr>\n",
       "    <tr>\n",
       "      <th>19056</th>\n",
       "      <td>1120431739367768066</td>\n",
       "      <td>RT @RepAdamSchiff: The Paris Climate Accords w...</td>\n",
       "      <td>2019-04-22 20:58:37+00:00</td>\n",
       "      <td>0</td>\n",
       "    </tr>\n",
       "    <tr>\n",
       "      <th>19057</th>\n",
       "      <td>1120431740525453312</td>\n",
       "      <td>If you haven’t already, watch this ⁦incredible...</td>\n",
       "      <td>2019-04-22 20:58:38+00:00</td>\n",
       "      <td>71</td>\n",
       "    </tr>\n",
       "    <tr>\n",
       "      <th>19058</th>\n",
       "      <td>1120431741464977411</td>\n",
       "      <td>.@TheLeadCNN #ClimateChange for #Dems in #Elec...</td>\n",
       "      <td>2019-04-22 20:58:38+00:00</td>\n",
       "      <td>1</td>\n",
       "    </tr>\n",
       "    <tr>\n",
       "      <th>19059</th>\n",
       "      <td>1120431743633362946</td>\n",
       "      <td>RT @EvelynNFarkas: Per @politico  @MikeBloombe...</td>\n",
       "      <td>2019-04-22 20:58:38+00:00</td>\n",
       "      <td>0</td>\n",
       "    </tr>\n",
       "  </tbody>\n",
       "</table>\n",
       "<p>886861 rows × 4 columns</p>\n",
       "</div>"
      ],
      "text/plain": [
       "                        id                                               text  \\\n",
       "0      1529817932951441417  **Queue switching the marketing material chang...   \n",
       "1      1529817896385396736  RT @pjmyoongii: first the blue house and now t...   \n",
       "2      1529817863829172224  @realDailyWire Soooo it’s not about global war...   \n",
       "3      1529817838357164032  RT @Concern70732755: Here’s my harsh reality f...   \n",
       "4      1529817815674302465  ESG study shows #Bitcoin Mining’s potential to...   \n",
       "...                    ...                                                ...   \n",
       "19055  1120431737421672449  RT @EcoSenseNow: The War on Plastic is basical...   \n",
       "19056  1120431739367768066  RT @RepAdamSchiff: The Paris Climate Accords w...   \n",
       "19057  1120431740525453312  If you haven’t already, watch this ⁦incredible...   \n",
       "19058  1120431741464977411  .@TheLeadCNN #ClimateChange for #Dems in #Elec...   \n",
       "19059  1120431743633362946  RT @EvelynNFarkas: Per @politico  @MikeBloombe...   \n",
       "\n",
       "                           date  likes  \n",
       "0     2022-05-26 13:33:12+00:00      0  \n",
       "1     2022-05-26 13:33:03+00:00      0  \n",
       "2     2022-05-26 13:32:56+00:00      0  \n",
       "3     2022-05-26 13:32:49+00:00      0  \n",
       "4     2022-05-26 13:32:44+00:00      0  \n",
       "...                         ...    ...  \n",
       "19055 2019-04-22 20:58:37+00:00      0  \n",
       "19056 2019-04-22 20:58:37+00:00      0  \n",
       "19057 2019-04-22 20:58:38+00:00     71  \n",
       "19058 2019-04-22 20:58:38+00:00      1  \n",
       "19059 2019-04-22 20:58:38+00:00      0  \n",
       "\n",
       "[886861 rows x 4 columns]"
      ]
     },
     "execution_count": 30,
     "metadata": {},
     "output_type": "execute_result"
    }
   ],
   "source": [
    "df_join"
   ]
  },
  {
   "cell_type": "code",
   "execution_count": 31,
   "id": "9e7d9efc",
   "metadata": {},
   "outputs": [],
   "source": [
    "df_join.to_pickle(\"dataset.pkl\")"
   ]
  }
 ],
 "metadata": {
  "kernelspec": {
   "display_name": "Python 3 (ipykernel)",
   "language": "python",
   "name": "python3"
  },
  "language_info": {
   "codemirror_mode": {
    "name": "ipython",
    "version": 3
   },
   "file_extension": ".py",
   "mimetype": "text/x-python",
   "name": "python",
   "nbconvert_exporter": "python",
   "pygments_lexer": "ipython3",
   "version": "3.9.7"
  }
 },
 "nbformat": 4,
 "nbformat_minor": 5
}
