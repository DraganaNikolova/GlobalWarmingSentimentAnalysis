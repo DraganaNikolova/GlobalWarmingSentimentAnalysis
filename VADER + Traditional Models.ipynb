{
 "cells": [
  {
   "cell_type": "code",
   "execution_count": 1,
   "id": "8c6af63a",
   "metadata": {},
   "outputs": [],
   "source": [
    "import pandas as pd\n",
    "df = pd.read_pickle(\"preprocessed_labeled.pkl\")"
   ]
  },
  {
   "cell_type": "code",
   "execution_count": 3,
   "id": "a581b3d7",
   "metadata": {},
   "outputs": [],
   "source": [
    "# Make positive, fact and neutral to be 0\n",
    "df['sentiment'] = df['sentiment'].replace(1,0)\n",
    "df['sentiment'] = df['sentiment'].replace(2,0)\n",
    "df['sentiment'] = df['sentiment'].replace(0,1) # 1 is POSITIVE\n",
    "df['sentiment'] = df['sentiment'].replace(-1,0) # 0 is NEGATIVE"
   ]
  },
  {
   "cell_type": "code",
   "execution_count": 5,
   "id": "40ef1d0a",
   "metadata": {},
   "outputs": [],
   "source": [
    "# Include all negatives\n",
    "negatives = df[df.index.isin(range(40000,50000))]\n",
    "negatives = negatives[negatives['sentiment']==0]\n",
    "df_1 = df[0:40000]\n",
    "df_2 = df[40000:]\n",
    "frames = [df_1,negatives,df_2]\n",
    "df = pd.concat(frames)\n",
    "df = df.reset_index()"
   ]
  },
  {
   "cell_type": "code",
   "execution_count": 7,
   "id": "4788acb3",
   "metadata": {},
   "outputs": [],
   "source": [
    "from nltk.sentiment import SentimentIntensityAnalyzer\n",
    "sia = SentimentIntensityAnalyzer()\n",
    "\n",
    "compound, neg, pos = [], [], []\n",
    "for text in df['clean']:\n",
    "    compound.append(sia.polarity_scores(text)['compound'])\n",
    "    neg.append(sia.polarity_scores(text)['neg'])\n",
    "    pos.append(sia.polarity_scores(text)['pos'])\n",
    "df['compound'] = compound\n",
    "df['neg'] = neg\n",
    "df['pos'] = pos"
   ]
  },
  {
   "cell_type": "code",
   "execution_count": 8,
   "id": "4f5c832e",
   "metadata": {},
   "outputs": [],
   "source": [
    "# Extract polarity and subjectivity\n",
    "from textblob import TextBlob\n",
    "\n",
    "polarity, subjectivity = [], []\n",
    "for text in df['clean']:\n",
    "    polarity.append(TextBlob(text).sentiment.polarity)\n",
    "    subjectivity.append(TextBlob(text).sentiment.subjectivity)\n",
    "df['polarity'] = polarity\n",
    "df['subjectivity'] = subjectivity"
   ]
  },
  {
   "cell_type": "code",
   "execution_count": 9,
   "id": "d613dfa8",
   "metadata": {},
   "outputs": [],
   "source": [
    "# Normalize data between 0 and 1\n",
    "from sklearn import preprocessing as pre\n",
    "import numpy as np\n",
    "\n",
    "for i in (\"compound\",\"polarity\",\"subjectivity\"):\n",
    "    x_array = np.array(list(df[i]))\n",
    "    x_array = x_array.reshape(-1, 1)\n",
    "    norm = pre.MinMaxScaler().fit_transform(x_array)\n",
    "    newList = []\n",
    "    for j in range(0,len(norm)): newList.append(list(norm[j])[0])\n",
    "    df[i] = newList"
   ]
  },
  {
   "cell_type": "code",
   "execution_count": 36,
   "id": "26726f09",
   "metadata": {},
   "outputs": [],
   "source": [
    "cluster = []\n",
    "for i in df['compound']:\n",
    "    if i > 0: cluster.append(1)\n",
    "    else: cluster.append(-1)\n",
    "df['cluster'] = cluster\n",
    "print(len(df[(df['sentiment']==-1)&(df['cluster']==-1)])) # 2435 out of 3990\n",
    "df = df.drop(['cluster'], axis=1)"
   ]
  },
  {
   "cell_type": "code",
   "execution_count": 10,
   "id": "06531946",
   "metadata": {},
   "outputs": [],
   "source": [
    "from sklearn.naive_bayes import (\n",
    "    BernoulliNB,\n",
    "    ComplementNB,\n",
    "    MultinomialNB,\n",
    ")\n",
    "from sklearn.neighbors import KNeighborsClassifier\n",
    "from sklearn.tree import DecisionTreeClassifier\n",
    "from sklearn.ensemble import RandomForestClassifier, AdaBoostClassifier\n",
    "from sklearn.linear_model import LogisticRegression\n",
    "from sklearn.neural_network import MLPClassifier\n",
    "from sklearn.discriminant_analysis import QuadraticDiscriminantAnalysis\n",
    "import nltk"
   ]
  },
  {
   "cell_type": "code",
   "execution_count": 21,
   "id": "105b6f9b",
   "metadata": {},
   "outputs": [
    {
     "name": "stdout",
     "output_type": "stream",
     "text": [
      "44391 44391\n",
      "79906 79906\n"
     ]
    }
   ],
   "source": [
    "# Solve imbalanced data with SLOVE\n",
    "from imblearn.over_sampling import SMOTE\n",
    "X = df[['neg','pos','compound','polarity','subjectivity']]\n",
    "y = df['sentiment']\n",
    "print(len(X), len(y))\n",
    "oversample = SMOTE()\n",
    "X, y = oversample.fit_resample(X, y)\n",
    "print(len(X), len(y))"
   ]
  },
  {
   "cell_type": "code",
   "execution_count": 26,
   "id": "e1499d88",
   "metadata": {},
   "outputs": [],
   "source": [
    "# Use if using balancing\n",
    "# Create format for nltk classfiries\n",
    "features = []\n",
    "for index, row in X.iterrows():\n",
    "    obj = {}\n",
    "    obj['neg'] = row['neg']\n",
    "    obj['pos'] = row['neg']\n",
    "    obj['compound'] = row['compound']\n",
    "    obj['polarity'] = row['polarity']\n",
    "    obj['subjectivity'] = row['subjectivity']\n",
    "    features.append((obj,row['sentiment']))"
   ]
  },
  {
   "cell_type": "code",
   "execution_count": 11,
   "id": "4905b3ad",
   "metadata": {},
   "outputs": [],
   "source": [
    "# Skip if using balancing\n",
    "# Create format for nltk classfiries\n",
    "features = []\n",
    "for index, row in df.iterrows():\n",
    "    obj = {}\n",
    "    obj['neg'] = row['neg']\n",
    "    obj['pos'] = row['neg']\n",
    "    obj['compound'] = row['compound']\n",
    "    obj['polarity'] = row['polarity']\n",
    "    obj['subjectivity'] = row['subjectivity']\n",
    "    features.append((obj,row['sentiment']))"
   ]
  },
  {
   "cell_type": "code",
   "execution_count": 27,
   "id": "8d5a800e",
   "metadata": {},
   "outputs": [
    {
     "name": "stdout",
     "output_type": "stream",
     "text": [
      "54.19% - BernoulliNB\n",
      "53.42% - ComplementNB\n",
      "53.48% - MultinomialNB\n",
      "71.80% - KNeighborsClassifier\n",
      "76.20% - DecisionTreeClassifier\n",
      "77.03% - RandomForestClassifier\n",
      "53.81% - LogisticRegression\n",
      "59.46% - MLPClassifier\n",
      "61.76% - AdaBoostClassifier\n"
     ]
    }
   ],
   "source": [
    "# https://realpython.com/python-nltk-sentiment-analysis/?fbclid=IwAR1_AjswnRENbP3sukZVnThNdsKGhh1yOxPm4vzP2lTKelHNWhNGHoUPL10\n",
    "from random import shuffle\n",
    "classifiers = {\n",
    "    \"BernoulliNB\": BernoulliNB(),\n",
    "    \"ComplementNB\": ComplementNB(),\n",
    "    \"MultinomialNB\": MultinomialNB(),\n",
    "    \"KNeighborsClassifier\": KNeighborsClassifier(),\n",
    "    \"DecisionTreeClassifier\": DecisionTreeClassifier(),\n",
    "    \"RandomForestClassifier\": RandomForestClassifier(),\n",
    "    \"LogisticRegression\": LogisticRegression(),\n",
    "    \"MLPClassifier\": MLPClassifier(max_iter=1000),\n",
    "    \"AdaBoostClassifier\": AdaBoostClassifier(),\n",
    "}\n",
    "shuffle(features)\n",
    "for name, sklearn_classifier in classifiers.items():\n",
    "    classifier = nltk.classify.SklearnClassifier(sklearn_classifier)\n",
    "    classifier = classifier.train(features[:40500])\n",
    "    accuracy = nltk.classify.accuracy(classifier, features[40500:])\n",
    "    print(F\"{accuracy:.2%} - {name}\")"
   ]
  },
  {
   "cell_type": "code",
   "execution_count": 28,
   "id": "c06a5ba4",
   "metadata": {},
   "outputs": [],
   "source": [
    "predictions = classifier.classify_many([i for i, label in features[40500:]])"
   ]
  },
  {
   "cell_type": "code",
   "execution_count": 30,
   "id": "dabeb3d7",
   "metadata": {},
   "outputs": [
    {
     "name": "stdout",
     "output_type": "stream",
     "text": [
      "76.94% - AdaBoostClassifier\n",
      "21881\n",
      "17525\n"
     ]
    }
   ],
   "source": [
    "# Train the vest classifier again\n",
    "rfc = nltk.classify.SklearnClassifier(RandomForestClassifier())\n",
    "rfc = rfc.train(features[:40500])\n",
    "accuracy = nltk.classify.accuracy(rfc, features[40500:])\n",
    "print(F\"{accuracy:.2%} - {name}\")\n",
    "\n",
    "# Check if predictis 0s\n",
    "predictions = classifier.classify_many([i for i, label in features[40500:]])\n",
    "positives,negatives = [],[]\n",
    "for j in predictions:\n",
    "    if j == 0: negatives.append(j)\n",
    "    else: positives.append(j)\n",
    "        \n",
    "print(len(positives))\n",
    "print(len(negatives))"
   ]
  },
  {
   "cell_type": "code",
   "execution_count": 45,
   "id": "6c3a4f09",
   "metadata": {},
   "outputs": [],
   "source": [
    "correct = 0\n",
    "for i,j in zip(X[40500:]['sentiment'], predictions):\n",
    "    if i == 1 and i == j: correct = correct + 1"
   ]
  },
  {
   "cell_type": "code",
   "execution_count": 46,
   "id": "f7abcfd3",
   "metadata": {},
   "outputs": [
    {
     "data": {
      "text/plain": [
       "1911"
      ]
     },
     "execution_count": 46,
     "metadata": {},
     "output_type": "execute_result"
    }
   ],
   "source": [
    "correct # correct negatives 15984 ouf of 35954, correct positives 1911 out of 3452"
   ]
  }
 ],
 "metadata": {
  "kernelspec": {
   "display_name": "Python 3 (ipykernel)",
   "language": "python",
   "name": "python3"
  },
  "language_info": {
   "codemirror_mode": {
    "name": "ipython",
    "version": 3
   },
   "file_extension": ".py",
   "mimetype": "text/x-python",
   "name": "python",
   "nbconvert_exporter": "python",
   "pygments_lexer": "ipython3",
   "version": "3.9.7"
  }
 },
 "nbformat": 4,
 "nbformat_minor": 5
}
