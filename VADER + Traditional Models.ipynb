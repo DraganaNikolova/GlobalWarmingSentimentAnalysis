{
 "cells": [
  {
   "cell_type": "code",
   "execution_count": 1,
   "id": "8c6af63a",
   "metadata": {},
   "outputs": [],
   "source": [
    "import pandas as pd\n",
    "df = pd.read_pickle(\"preprocessed_labeled.pkl\")"
   ]
  },
  {
   "cell_type": "code",
   "execution_count": 2,
   "id": "a581b3d7",
   "metadata": {},
   "outputs": [],
   "source": [
    "# Make positive, fact and neutral to be 0\n",
    "df['sentiment'] = df['sentiment'].replace(1,0)\n",
    "df['sentiment'] = df['sentiment'].replace(2,0)\n",
    "df['sentiment'] = df['sentiment'].replace(0,1) # 1 is POSITIVE\n",
    "df['sentiment'] = df['sentiment'].replace(-1,0) # 0 is NEGATIVE"
   ]
  },
  {
   "cell_type": "code",
   "execution_count": 3,
   "id": "40ef1d0a",
   "metadata": {},
   "outputs": [],
   "source": [
    "# Include all negatives\n",
    "negatives = df[df.index.isin(range(40000,50000))]\n",
    "negatives = negatives[negatives['sentiment']==0]\n",
    "df_1 = df[0:40000]\n",
    "df_2 = df[40000:]\n",
    "frames = [df_1,negatives,df_2]\n",
    "df = pd.concat(frames)\n",
    "df = df.reset_index()"
   ]
  },
  {
   "cell_type": "code",
   "execution_count": 4,
   "id": "4788acb3",
   "metadata": {},
   "outputs": [],
   "source": [
    "from nltk.sentiment import SentimentIntensityAnalyzer\n",
    "sia = SentimentIntensityAnalyzer()\n",
    "\n",
    "compound, neg, pos = [], [], []\n",
    "for text in df['clean']:\n",
    "    compound.append(sia.polarity_scores(text)['compound'])\n",
    "    neg.append(sia.polarity_scores(text)['neg'])\n",
    "    pos.append(sia.polarity_scores(text)['pos'])\n",
    "df['compound'] = compound\n",
    "df['neg'] = neg\n",
    "df['pos'] = pos"
   ]
  },
  {
   "cell_type": "code",
   "execution_count": 5,
   "id": "4f5c832e",
   "metadata": {},
   "outputs": [],
   "source": [
    "# Extract polarity and subjectivity\n",
    "from textblob import TextBlob\n",
    "\n",
    "polarity, subjectivity = [], []\n",
    "for text in df['clean']:\n",
    "    polarity.append(TextBlob(text).sentiment.polarity)\n",
    "    subjectivity.append(TextBlob(text).sentiment.subjectivity)\n",
    "df['polarity'] = polarity\n",
    "df['subjectivity'] = subjectivity"
   ]
  },
  {
   "cell_type": "code",
   "execution_count": 6,
   "id": "d613dfa8",
   "metadata": {},
   "outputs": [],
   "source": [
    "# Normalize data between 0 and 1\n",
    "from sklearn import preprocessing as pre\n",
    "import numpy as np\n",
    "\n",
    "for i in (\"compound\",\"polarity\",\"subjectivity\"):\n",
    "    x_array = np.array(list(df[i]))\n",
    "    x_array = x_array.reshape(-1, 1)\n",
    "    norm = pre.MinMaxScaler().fit_transform(x_array)\n",
    "    newList = []\n",
    "    for j in range(0,len(norm)): newList.append(list(norm[j])[0])\n",
    "    df[i] = newList"
   ]
  },
  {
   "cell_type": "code",
   "execution_count": 7,
   "id": "26726f09",
   "metadata": {},
   "outputs": [
    {
     "name": "stdout",
     "output_type": "stream",
     "text": [
      "0\n"
     ]
    }
   ],
   "source": [
    "cluster = []\n",
    "for i in df['compound']:\n",
    "    if i > 0: cluster.append(1)\n",
    "    else: cluster.append(-1)\n",
    "df['cluster'] = cluster\n",
    "print(len(df[(df['sentiment']==-1)&(df['cluster']==-1)])) # 2435 out of 3990\n",
    "df = df.drop(['cluster'], axis=1)"
   ]
  },
  {
   "cell_type": "code",
   "execution_count": 8,
   "id": "06531946",
   "metadata": {},
   "outputs": [],
   "source": [
    "from sklearn.naive_bayes import (\n",
    "    BernoulliNB,\n",
    "    ComplementNB,\n",
    "    MultinomialNB,\n",
    ")\n",
    "from sklearn.neighbors import KNeighborsClassifier\n",
    "from sklearn.tree import DecisionTreeClassifier\n",
    "from sklearn.ensemble import RandomForestClassifier, AdaBoostClassifier\n",
    "from sklearn.linear_model import LogisticRegression\n",
    "from sklearn.neural_network import MLPClassifier\n",
    "from sklearn.discriminant_analysis import QuadraticDiscriminantAnalysis\n",
    "import nltk"
   ]
  },
  {
   "cell_type": "code",
   "execution_count": 9,
   "id": "105b6f9b",
   "metadata": {},
   "outputs": [
    {
     "name": "stdout",
     "output_type": "stream",
     "text": [
      "44391 44391\n",
      "79906 79906\n"
     ]
    }
   ],
   "source": [
    "# Solve imbalanced data with SLOVE\n",
    "from imblearn.over_sampling import SMOTE\n",
    "X = df[['neg','pos','compound','polarity','subjectivity']]\n",
    "y = df['sentiment']\n",
    "print(len(X), len(y))\n",
    "oversample = SMOTE()\n",
    "X, y = oversample.fit_resample(X, y)\n",
    "print(len(X), len(y))"
   ]
  },
  {
   "cell_type": "code",
   "execution_count": 10,
   "id": "e1499d88",
   "metadata": {},
   "outputs": [],
   "source": [
    "# Use if using balancing\n",
    "# Create format for nltk classfiries\n",
    "features = []\n",
    "for tupled, row2 in zip(X.iterrows(), y):\n",
    "    obj = {}\n",
    "    obj['neg'] = tupled[1]['neg']\n",
    "    obj['pos'] = tupled[1]['neg']\n",
    "    obj['compound'] = tupled[1]['compound']\n",
    "    obj['polarity'] = tupled[1]['polarity']\n",
    "    obj['subjectivity'] = tupled[1]['subjectivity']\n",
    "    features.append((obj,row2))"
   ]
  },
  {
   "cell_type": "code",
   "execution_count": 11,
   "id": "4905b3ad",
   "metadata": {},
   "outputs": [],
   "source": [
    "# Skip if using balancing\n",
    "# Create format for nltk classfiries\n",
    "features = []\n",
    "for index, row in df.iterrows():\n",
    "    obj = {}\n",
    "    obj['neg'] = row['neg']\n",
    "    obj['pos'] = row['neg']\n",
    "    obj['compound'] = row['compound']\n",
    "    obj['polarity'] = row['polarity']\n",
    "    obj['subjectivity'] = row['subjectivity']\n",
    "    features.append((obj,row['sentiment']))"
   ]
  },
  {
   "cell_type": "code",
   "execution_count": 11,
   "id": "d9df4972",
   "metadata": {},
   "outputs": [],
   "source": [
    "import numpy as np\n",
    "from random import shuffle\n",
    "from sklearn.model_selection import train_test_split\n",
    "\n",
    "shuffle(features)\n",
    "threshold = round(len(features)/100*20)\n",
    "test = features[:threshold]\n",
    "train = features[threshold:]"
   ]
  },
  {
   "cell_type": "code",
   "execution_count": 12,
   "id": "d3dda9d4",
   "metadata": {},
   "outputs": [
    {
     "name": "stdout",
     "output_type": "stream",
     "text": [
      "54.58% - BernoulliNB\n",
      "              precision    recall  f1-score   support\n",
      "\n",
      "           0       0.55      0.50      0.52      7971\n",
      "           1       0.54      0.59      0.57      8010\n",
      "\n",
      "    accuracy                           0.55     15981\n",
      "   macro avg       0.55      0.55      0.54     15981\n",
      "weighted avg       0.55      0.55      0.54     15981\n",
      "\n",
      "0.09187341804824685\n",
      "0.5457166122324513\n",
      "53.59% - ComplementNB\n",
      "              precision    recall  f1-score   support\n",
      "\n",
      "           0       0.54      0.46      0.50      7971\n",
      "           1       0.53      0.61      0.57      8010\n",
      "\n",
      "    accuracy                           0.54     15981\n",
      "   macro avg       0.54      0.54      0.53     15981\n",
      "weighted avg       0.54      0.54      0.53     15981\n",
      "\n",
      "0.07224354807646823\n",
      "0.5357008105694003\n",
      "53.63% - MultinomialNB\n",
      "              precision    recall  f1-score   support\n",
      "\n",
      "           0       0.54      0.46      0.50      7971\n",
      "           1       0.53      0.61      0.57      8010\n",
      "\n",
      "    accuracy                           0.54     15981\n",
      "   macro avg       0.54      0.54      0.53     15981\n",
      "weighted avg       0.54      0.54      0.53     15981\n",
      "\n",
      "0.07295120900303506\n",
      "0.5360835885891599\n",
      "71.51% - KNeighborsClassifier\n",
      "              precision    recall  f1-score   support\n",
      "\n",
      "           0       0.77      0.62      0.68      7971\n",
      "           1       0.68      0.81      0.74      8010\n",
      "\n",
      "    accuracy                           0.72     15981\n",
      "   macro avg       0.72      0.71      0.71     15981\n",
      "weighted avg       0.72      0.72      0.71     15981\n",
      "\n",
      "0.43820331475530094\n",
      "0.7148615510250877\n",
      "77.37% - DecisionTreeClassifier\n",
      "              precision    recall  f1-score   support\n",
      "\n",
      "           0       0.81      0.72      0.76      7971\n",
      "           1       0.75      0.83      0.79      8010\n",
      "\n",
      "    accuracy                           0.77     15981\n",
      "   macro avg       0.78      0.77      0.77     15981\n",
      "weighted avg       0.78      0.77      0.77     15981\n",
      "\n",
      "0.5503951159212553\n",
      "0.773601684383042\n",
      "78.61% - RandomForestClassifier\n",
      "              precision    recall  f1-score   support\n",
      "\n",
      "           0       0.82      0.74      0.77      7971\n",
      "           1       0.76      0.84      0.80      8010\n",
      "\n",
      "    accuracy                           0.79     15981\n",
      "   macro avg       0.79      0.79      0.79     15981\n",
      "weighted avg       0.79      0.79      0.79     15981\n",
      "\n",
      "0.57491239569631\n",
      "0.7860000225536672\n",
      "54.11% - LogisticRegression\n",
      "              precision    recall  f1-score   support\n",
      "\n",
      "           0       0.55      0.47      0.51      7971\n",
      "           1       0.54      0.61      0.57      8010\n",
      "\n",
      "    accuracy                           0.54     15981\n",
      "   macro avg       0.54      0.54      0.54     15981\n",
      "weighted avg       0.54      0.54      0.54     15981\n",
      "\n",
      "0.08277517385706432\n",
      "0.5409699110586739\n",
      "59.00% - MLPClassifier\n",
      "              precision    recall  f1-score   support\n",
      "\n",
      "           0       0.60      0.54      0.57      7971\n",
      "           1       0.58      0.64      0.61      8010\n",
      "\n",
      "    accuracy                           0.59     15981\n",
      "   macro avg       0.59      0.59      0.59     15981\n",
      "weighted avg       0.59      0.59      0.59     15981\n",
      "\n",
      "0.1805815101617426\n",
      "0.5898276382974424\n",
      "62.20% - AdaBoostClassifier\n",
      "              precision    recall  f1-score   support\n",
      "\n",
      "           0       0.64      0.57      0.60      7971\n",
      "           1       0.61      0.67      0.64      8010\n",
      "\n",
      "    accuracy                           0.62     15981\n",
      "   macro avg       0.62      0.62      0.62     15981\n",
      "weighted avg       0.62      0.62      0.62     15981\n",
      "\n",
      "0.24508677454300834\n",
      "0.6218606822390341\n"
     ]
    }
   ],
   "source": [
    "# https://realpython.com/python-nltk-sentiment-analysis/?fbclid=IwAR1_AjswnRENbP3sukZVnThNdsKGhh1yOxPm4vzP2lTKelHNWhNGHoUPL10\n",
    "from sklearn import metrics\n",
    "from sklearn.metrics import matthews_corrcoef\n",
    "from sklearn.metrics import roc_auc_score\n",
    "\n",
    "classifiers = {\n",
    "    \"BernoulliNB\": BernoulliNB(),\n",
    "    \"ComplementNB\": ComplementNB(),\n",
    "    \"MultinomialNB\": MultinomialNB(),\n",
    "    \"KNeighborsClassifier\": KNeighborsClassifier(),\n",
    "    \"DecisionTreeClassifier\": DecisionTreeClassifier(),\n",
    "    \"RandomForestClassifier\": RandomForestClassifier(),\n",
    "    \"LogisticRegression\": LogisticRegression(),\n",
    "    \"MLPClassifier\": MLPClassifier(max_iter=1000),\n",
    "    \"AdaBoostClassifier\": AdaBoostClassifier(),\n",
    "}\n",
    "for name, sklearn_classifier in classifiers.items():\n",
    "    classifier = nltk.classify.SklearnClassifier(sklearn_classifier)\n",
    "    classifier = classifier.train(train)\n",
    "    accuracy = nltk.classify.accuracy(classifier, test)\n",
    "    print(F\"{accuracy:.2%} - {name}\")\n",
    "    \n",
    "    y_pred = classifier.classify_many([i for i, label in test])\n",
    "    y_test = [label for i, label in test]      \n",
    "    print(metrics.classification_report(y_test, y_pred))\n",
    "    print(matthews_corrcoef(y_test, y_pred))\n",
    "    print(roc_auc_score(y_test, y_pred))"
   ]
  },
  {
   "cell_type": "code",
   "execution_count": 28,
   "id": "c06a5ba4",
   "metadata": {},
   "outputs": [],
   "source": [
    "predictions = classifier.classify_many([i for i, label in features[40500:]])"
   ]
  },
  {
   "cell_type": "code",
   "execution_count": 13,
   "id": "dabeb3d7",
   "metadata": {},
   "outputs": [
    {
     "name": "stdout",
     "output_type": "stream",
     "text": [
      "78.78% - AdaBoostClassifier\n"
     ]
    }
   ],
   "source": [
    "# Train the best classifier again\n",
    "classifier = nltk.classify.SklearnClassifier(RandomForestClassifier())\n",
    "classifier = classifier.train(train)\n",
    "accuracy = nltk.classify.accuracy(classifier, test)\n",
    "print(F\"{accuracy:.2%} - {name}\")\n",
    "\n",
    "# rfc = nltk.classify.SklearnClassifier(RandomForestClassifier())\n",
    "# rfc = rfc.train(features[:40500])\n",
    "# accuracy = nltk.classify.accuracy(rfc, features[40500:])\n",
    "# print(F\"{accuracy:.2%} - {name}\")\n",
    "\n",
    "# # Check if predictis 0s\n",
    "# predictions = classifier.classify_many([i for i, label in features[40500:]])\n",
    "# positives,negatives = [],[]\n",
    "# for j in predictions:\n",
    "#     if j == 0: negatives.append(j)\n",
    "#     else: positives.append(j)\n",
    "        \n",
    "# print(len(positives))\n",
    "# print(len(negatives))"
   ]
  },
  {
   "cell_type": "markdown",
   "id": "21e4d740",
   "metadata": {},
   "source": [
    "### Classify unlabeled"
   ]
  },
  {
   "cell_type": "code",
   "execution_count": 14,
   "id": "0ea63443",
   "metadata": {},
   "outputs": [],
   "source": [
    "# Classify unlabaled data\n",
    "unlabaled = pd.read_pickle(\"preprocessed.pkl\")\n",
    "\n",
    "# Predict\n",
    "def decode_sentiment(score):\n",
    "    if score > 0.5: return 1\n",
    "    elif score <= 0.5: return 0\n",
    "\n",
    "def get_features(text):\n",
    "    features = []\n",
    "    # Add features for text\n",
    "    features.append(sia.polarity_scores(text)['compound'])\n",
    "    features.append(sia.polarity_scores(text)['neg'])\n",
    "    features.append(sia.polarity_scores(text)['pos'])\n",
    "    features.append(TextBlob(text).sentiment.polarity)\n",
    "    features.append(TextBlob(text).sentiment.subjectivity)\n",
    "    return features\n",
    "\n",
    "def predict(features):\n",
    "    scores = model.predict(np.array(features))\n",
    "    return scores\n",
    "\n",
    "negatives = []\n",
    "features = []\n",
    "for index, row in unlabaled.iterrows():\n",
    "    vector = get_features(row[\"clean\"])\n",
    "    features.append(vector)"
   ]
  },
  {
   "cell_type": "code",
   "execution_count": 15,
   "id": "8fac4094",
   "metadata": {},
   "outputs": [],
   "source": [
    "# Create the pandas DataFrame\n",
    "features = pd.DataFrame(features)\n",
    " \n",
    "# specifying column names\n",
    "features.columns = ['compound', 'neg', 'pos', 'polarity', 'subjectivity']"
   ]
  },
  {
   "cell_type": "code",
   "execution_count": 18,
   "id": "5ce9de76",
   "metadata": {},
   "outputs": [],
   "source": [
    "# Normalize data between 0 and 1\n",
    "from sklearn import preprocessing as pre\n",
    "import numpy as np\n",
    "\n",
    "for i in (\"compound\",\"polarity\",\"subjectivity\"):\n",
    "    x_array = np.array(list(features[i]))\n",
    "    x_array = x_array.reshape(-1, 1)\n",
    "    norm = pre.MinMaxScaler().fit_transform(x_array)\n",
    "    newList = []\n",
    "    for j in range(0,len(norm)): newList.append(list(norm[j])[0])\n",
    "    features[i] = newList"
   ]
  },
  {
   "cell_type": "code",
   "execution_count": 20,
   "id": "9790032e",
   "metadata": {},
   "outputs": [],
   "source": [
    "features_format = []\n",
    "for index, row in features.iterrows():\n",
    "    obj = {}\n",
    "    obj['neg'] = row['neg']\n",
    "    obj['pos'] = row['neg']\n",
    "    obj['compound'] = row['compound']\n",
    "    obj['polarity'] = row['polarity']\n",
    "    obj['subjectivity'] = row['subjectivity']\n",
    "    features_format.append((obj,0))"
   ]
  },
  {
   "cell_type": "code",
   "execution_count": 21,
   "id": "76970de8",
   "metadata": {},
   "outputs": [],
   "source": [
    "y_pred = classifier.classify_many([i for i, label in features_format])"
   ]
  },
  {
   "cell_type": "code",
   "execution_count": 22,
   "id": "00f7aa51",
   "metadata": {},
   "outputs": [],
   "source": [
    "negatives = []\n",
    "scores = y_pred\n",
    "for i in range(0,len(scores)):\n",
    "    if scores[i]<0.5: negatives.append(i)"
   ]
  },
  {
   "cell_type": "code",
   "execution_count": 25,
   "id": "2215095e",
   "metadata": {},
   "outputs": [
    {
     "data": {
      "text/plain": [
       "313985"
      ]
     },
     "execution_count": 25,
     "metadata": {},
     "output_type": "execute_result"
    }
   ],
   "source": [
    "len(scores)"
   ]
  },
  {
   "cell_type": "code",
   "execution_count": 23,
   "id": "98f74b84",
   "metadata": {},
   "outputs": [
    {
     "data": {
      "text/plain": [
       "109340"
      ]
     },
     "execution_count": 23,
     "metadata": {},
     "output_type": "execute_result"
    }
   ],
   "source": [
    "len(negatives)"
   ]
  },
  {
   "cell_type": "code",
   "execution_count": 24,
   "id": "8f50feed",
   "metadata": {},
   "outputs": [],
   "source": [
    "with open('randomforest_negatives.txt','w') as tfile:\n",
    "    tfile.write(str(negatives))"
   ]
  }
 ],
 "metadata": {
  "kernelspec": {
   "display_name": "Python 3 (ipykernel)",
   "language": "python",
   "name": "python3"
  },
  "language_info": {
   "codemirror_mode": {
    "name": "ipython",
    "version": 3
   },
   "file_extension": ".py",
   "mimetype": "text/x-python",
   "name": "python",
   "nbconvert_exporter": "python",
   "pygments_lexer": "ipython3",
   "version": "3.9.7"
  }
 },
 "nbformat": 4,
 "nbformat_minor": 5
}
